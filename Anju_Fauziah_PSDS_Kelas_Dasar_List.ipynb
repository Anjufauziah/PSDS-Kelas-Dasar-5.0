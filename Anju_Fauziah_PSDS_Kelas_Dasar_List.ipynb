{
  "nbformat": 4,
  "nbformat_minor": 0,
  "metadata": {
    "colab": {
      "provenance": [],
      "authorship_tag": "ABX9TyNqt+QnEyT/0mReRaHcxOom",
      "include_colab_link": true
    },
    "kernelspec": {
      "name": "python3",
      "display_name": "Python 3"
    },
    "language_info": {
      "name": "python"
    }
  },
  "cells": [
    {
      "cell_type": "markdown",
      "metadata": {
        "id": "view-in-github",
        "colab_type": "text"
      },
      "source": [
        "<a href=\"https://colab.research.google.com/github/Anjufauziah/PSDS-Kelas-Dasar-5.0/blob/main/Anju_Fauziah_PSDS_Kelas_Dasar_List.ipynb\" target=\"_parent\"><img src=\"https://colab.research.google.com/assets/colab-badge.svg\" alt=\"Open In Colab\"/></a>"
      ]
    },
    {
      "cell_type": "markdown",
      "source": [
        "# List"
      ],
      "metadata": {
        "id": "ivJ4h-SbJ_kG"
      }
    },
    {
      "cell_type": "markdown",
      "source": [
        "List adalah jenis kumpulan data terurut (ordered sequence), bisa diubah elemennya(mutable), bisa ditambahkan elemen baru atau menghapus elemen (changeable), dan merupakan salah satu variabel yang sering digunakan pada Python. Serupa namun tak sama dengan array pada bahasa pemrograman lainnya. Bedanya, elemen list pada Phyton tidak harus memiliki tipe data yang sama. Mendeklarasikan List cukup mudah dengan kurung siku dan elemen yang dipisahkan dengan koma.\n",
        "\n",
        "Setiap data di dalamnya dapat diakses dengan indeks yang dimulai dari 0."
      ],
      "metadata": {
        "id": "lf6bnR5qKE80"
      }
    },
    {
      "cell_type": "code",
      "source": [
        "#Contoh List\n",
        "L1 = [1, 4, 2, 13]\n",
        "print(type(L1))"
      ],
      "metadata": {
        "colab": {
          "base_uri": "https://localhost:8080/"
        },
        "id": "KUX_I8TpLF82",
        "outputId": "47313810-0687-4140-dd99-e99d4656ceee"
      },
      "execution_count": 1,
      "outputs": [
        {
          "output_type": "stream",
          "name": "stdout",
          "text": [
            "<class 'list'>\n"
          ]
        }
      ]
    },
    {
      "cell_type": "code",
      "source": [
        "L2 = [\"a\", \"Python\", 3]\n",
        "print(type(L2))"
      ],
      "metadata": {
        "colab": {
          "base_uri": "https://localhost:8080/"
        },
        "id": "KTISK5lnLSbk",
        "outputId": "bc3392f1-f668-4ec3-f6bb-3f6002304a69"
      },
      "execution_count": 2,
      "outputs": [
        {
          "output_type": "stream",
          "name": "stdout",
          "text": [
            "<class 'list'>\n"
          ]
        }
      ]
    },
    {
      "cell_type": "code",
      "source": [
        "print(L1)\n",
        "print(L2)"
      ],
      "metadata": {
        "colab": {
          "base_uri": "https://localhost:8080/"
        },
        "id": "r5KbAdcWLlGm",
        "outputId": "e42c5de7-c30c-4f3a-b89b-f1eeb6a9ffda"
      },
      "execution_count": 3,
      "outputs": [
        {
          "output_type": "stream",
          "name": "stdout",
          "text": [
            "[1, 4, 2, 13]\n",
            "['a', 'Python', 3]\n"
          ]
        }
      ]
    },
    {
      "cell_type": "markdown",
      "source": [
        "Indeks di Python (List, Tuple) mulai dari 0"
      ],
      "metadata": {
        "id": "8oIscZZULpvr"
      }
    },
    {
      "cell_type": "code",
      "source": [
        "#Sifat-sifat List\n",
        "\n",
        "#Terurut/Ordered\n",
        "print(\"Memanggil List L1 dengan indeks urutan:\", L1[0:3])\n",
        "\n",
        "#Bisa Diganti/Mutable\n",
        "L1[1] = 2\n",
        "print(\"List L1 setelah diganti elemennya:\", L1)\n",
        "\n",
        "L1 = [1, \"dua\", True, 2+3j]\n",
        "\n",
        "#Dapat Diindeks/Slicing\n",
        "print(\"Slicing List L1:\", L1[3])\n",
        "\n",
        "#Dapat Diizinkan Duplikasi\n",
        "L1 = [1, \"dua\", True, 2+3j, 2+3j]\n",
        "print(\"Duplikasi pada List L1:\", L1)\n",
        "\n",
        "#Dapat mengubah data dengan mengganti elemen tertentu\n",
        "L1 = [1, \"dua\", True, 2+3j]\n",
        "L1[2]=3\n",
        "print(\"Data setelah diubah\", L1)\n",
        "\n",
        "#Dapat menambahkan elemen baru pada data\n",
        "L1 = [1, \"dua\", True, 2+3j]\n",
        "L1.append(20)\n",
        "print(\"Data setelah ditambahkan elemennya:\", L1)\n",
        "\n",
        "#Dapat menghapus elemen pada data (remove()) = menghapus berdasarkan nama objek)\n",
        "L1 = [1, \"dua\", True, 2+3j]\n",
        "L1.remove(2+3j)\n",
        "print(\"Data setelah dihapus elemennya:\", L1)"
      ],
      "metadata": {
        "colab": {
          "base_uri": "https://localhost:8080/"
        },
        "id": "iWwqxAOKLyT5",
        "outputId": "3ac2869e-a4de-49b4-ab8f-f0cb6918d5f7"
      },
      "execution_count": 4,
      "outputs": [
        {
          "output_type": "stream",
          "name": "stdout",
          "text": [
            "Memanggil List L1 dengan indeks urutan: [1, 4, 2]\n",
            "List L1 setelah diganti elemennya: [1, 2, 2, 13]\n",
            "Slicing List L1: (2+3j)\n",
            "Duplikasi pada List L1: [1, 'dua', True, (2+3j), (2+3j)]\n",
            "Data setelah diubah [1, 'dua', 3, (2+3j)]\n",
            "Data setelah ditambahkan elemennya: [1, 'dua', True, (2+3j), 20]\n",
            "Data setelah dihapus elemennya: [1, 'dua', True]\n"
          ]
        }
      ]
    },
    {
      "cell_type": "code",
      "source": [
        "#Menambahkan data menggunakan fungsi extend (menambahkan elemen baru pada list namun elemen tersebut ditambahkan secara individual)\n",
        "L1 = L1 = [1, \"dua\", True, 2+3j]\n",
        "L1.extend(\"nanas\")\n",
        "print(L1)"
      ],
      "metadata": {
        "colab": {
          "base_uri": "https://localhost:8080/"
        },
        "id": "enrVUDAHQFFR",
        "outputId": "4f5d1a2f-8d30-4bf3-d2c2-3603e0e0a7bf"
      },
      "execution_count": 5,
      "outputs": [
        {
          "output_type": "stream",
          "name": "stdout",
          "text": [
            "[1, 'dua', True, (2+3j), 'n', 'a', 'n', 'a', 's']\n"
          ]
        }
      ]
    },
    {
      "cell_type": "code",
      "source": [
        "L1 = [1, \"dua\", True, 2+3j]\n",
        "L1.extend([\"nanas\"])\n",
        "print(L1)"
      ],
      "metadata": {
        "colab": {
          "base_uri": "https://localhost:8080/"
        },
        "id": "6w_hM6N7Qacd",
        "outputId": "c15d4cb3-c31c-4323-9221-640c5c0ad363"
      },
      "execution_count": 6,
      "outputs": [
        {
          "output_type": "stream",
          "name": "stdout",
          "text": [
            "[1, 'dua', True, (2+3j), 'nanas']\n"
          ]
        }
      ]
    },
    {
      "cell_type": "code",
      "source": [
        "#Menambahkan data menggunakan fungsi insert (menambahkan elemen baru di list pada indeks tertentu)\n",
        "L1 = [1, \"dua\", True, 2+3j]\n",
        "L1.insert(2, 5)\n",
        "print(L1)"
      ],
      "metadata": {
        "colab": {
          "base_uri": "https://localhost:8080/"
        },
        "id": "vc3YC27dQjRi",
        "outputId": "ff8fffca-f21a-4330-dc68-ad64f166fc2f"
      },
      "execution_count": 7,
      "outputs": [
        {
          "output_type": "stream",
          "name": "stdout",
          "text": [
            "[1, 'dua', 5, True, (2+3j)]\n"
          ]
        }
      ]
    },
    {
      "cell_type": "code",
      "source": [
        "#Menghapus elemen dari list menggunakan fungsi pop() (menghapus berdasarkan indeks)\n",
        "L1 = [1, \"dua\", True, 2+3j]\n",
        "L1.pop(2)\n",
        "print(L1)"
      ],
      "metadata": {
        "colab": {
          "base_uri": "https://localhost:8080/"
        },
        "id": "RrStxuVXQzXG",
        "outputId": "1967f6bc-620e-4c12-fc8f-75c1a89c7b72"
      },
      "execution_count": 8,
      "outputs": [
        {
          "output_type": "stream",
          "name": "stdout",
          "text": [
            "[1, 'dua', (2+3j)]\n"
          ]
        }
      ]
    },
    {
      "cell_type": "code",
      "source": [
        "L1 = [1, \"dua\", True, 2+3j]\n",
        "L1.pop()\n",
        "print(L1)"
      ],
      "metadata": {
        "colab": {
          "base_uri": "https://localhost:8080/"
        },
        "id": "GcWDugvjREUP",
        "outputId": "2af88b7e-4e42-4d54-ed0f-2f87e3214ead"
      },
      "execution_count": 9,
      "outputs": [
        {
          "output_type": "stream",
          "name": "stdout",
          "text": [
            "[1, 'dua', True]\n"
          ]
        }
      ]
    },
    {
      "cell_type": "markdown",
      "source": [
        "# Latihan 1"
      ],
      "metadata": {
        "id": "ok_IYchtRMBq"
      }
    },
    {
      "cell_type": "code",
      "source": [
        "#Buatlah List kalian sendiri\n",
        "A = [\"Papandayan\", 2, True, 4+6j]\n",
        "print(A)"
      ],
      "metadata": {
        "colab": {
          "base_uri": "https://localhost:8080/"
        },
        "id": "bDsitcUuRSHP",
        "outputId": "e6231529-bbb3-4fb2-9656-e09dc35ac4aa"
      },
      "execution_count": 13,
      "outputs": [
        {
          "output_type": "stream",
          "name": "stdout",
          "text": [
            "['Papandayan', 2, True, (4+6j)]\n"
          ]
        }
      ]
    },
    {
      "cell_type": "markdown",
      "source": [
        "# Latihan 2"
      ],
      "metadata": {
        "id": "P4IOgh3yRPdS"
      }
    },
    {
      "cell_type": "code",
      "source": [
        "#Ganti elemen yang ada pada List yang kalian buat\n",
        "#Diganti/Mutable\n",
        "A[1] = 2\n",
        "print(\"List A setelah diganti elemennya:\", L1)\n",
        "\n",
        "#Diindeks/Slicing\n",
        "print(\"Slicing List A:\", A[3])\n",
        "\n",
        "#Duplikasi\n",
        "print(\"Duplikasi pada List A:\", A)\n",
        "\n",
        "#Mengubah data dengan mengganti elemen tertentu\n",
        "A[2]=3\n",
        "print(\"Data setelah diubah\", A)\n",
        "\n",
        "#Menambahkan elemen baru pada data\n",
        "A.append(20)\n",
        "print(\"Data setelah ditambahkan elemennya:\", A)\n",
        "\n",
        "#Menghapus elemen pada data\n",
        "A.remove(4+6j)\n",
        "print(\"Data setelah dihapus elemennya:\", A)"
      ],
      "metadata": {
        "colab": {
          "base_uri": "https://localhost:8080/"
        },
        "id": "N5rJ6fWbRWe_",
        "outputId": "e7a9d95a-8a77-4cbe-adcd-be65f8be62f0"
      },
      "execution_count": 14,
      "outputs": [
        {
          "output_type": "stream",
          "name": "stdout",
          "text": [
            "List A setelah diganti elemennya: [1, 'dua', True]\n",
            "Slicing List A: (4+6j)\n",
            "Duplikasi pada List A: ['Papandayan', 2, True, (4+6j)]\n",
            "Data setelah diubah ['Papandayan', 2, 3, (4+6j)]\n",
            "Data setelah ditambahkan elemennya: ['Papandayan', 2, 3, (4+6j), 20]\n",
            "Data setelah dihapus elemennya: ['Papandayan', 2, 3, 20]\n"
          ]
        }
      ]
    }
  ]
}